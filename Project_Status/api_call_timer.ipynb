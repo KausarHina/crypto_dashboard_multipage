{
 "cells": [
  {
   "cell_type": "code",
   "execution_count": 1,
   "id": "620eb46a-c180-4776-9eb3-b5f0aac38ea9",
   "metadata": {},
   "outputs": [],
   "source": [
    "# Import the required libraries and dependencies\n",
    "import pandas as pd\n",
    "import requests\n",
    "import json\n",
    "import schedule\n",
    "import time"
   ]
  },
  {
   "cell_type": "code",
   "execution_count": 2,
   "id": "1f52b40c-b270-4986-968b-cb07ca63fb47",
   "metadata": {},
   "outputs": [],
   "source": [
    "coin_list = [\"bitcoin\", \"ethereum\", \"tether\"]\n",
    "\n",
    "#function loops through coin list to call api data from coingecko and returns a datafranme all_coin_info_df\n",
    "def get_live_data (coin_list):\n",
    "    \n",
    "    all_coiN_info_df = pd.DataFrame()\n",
    "    try:\n",
    "        for c in coin_list:\n",
    "            url = (f'https://api.coingecko.com/api/v3/coins/markets?vs_currency=usd&ids={c}&order=market_cap_desc&per_page=10&page=1&sparkline=false&price_change_percentage=1h')\n",
    "            response = requests.get(url).json()\n",
    "            all_coiN_info_df = all_coiN_info_df.append(response)\n",
    "    \n",
    "    except json.JSONDecodeError:\n",
    "        pass\n",
    "    finally:\n",
    "        print(all_coiN_info_df)\n",
    "        "
   ]
  },
  {
   "cell_type": "code",
   "execution_count": 3,
   "id": "b2fd6b61-2708-4766-b6bc-76527231fe59",
   "metadata": {},
   "outputs": [],
   "source": [
    "#timer function to run api call every 2 minutes\n",
    "def api_timer():\n",
    "    schedule.every(1).minutes.do(get_live_data, coin_list)\n",
    "    \n",
    "    while True:\n",
    "        schedule.run_pending()\n",
    "        time.sleep(0)\n"
   ]
  },
  {
   "cell_type": "code",
   "execution_count": 4,
   "id": "a88f55ec-3841-4f3c-837e-d5882641e7fd",
   "metadata": {},
   "outputs": [
    {
     "name": "stdout",
     "output_type": "stream",
     "text": [
      "         id symbol      name  \\\n",
      "0   bitcoin    btc   Bitcoin   \n",
      "0  ethereum    eth  Ethereum   \n",
      "0    tether   usdt    Tether   \n",
      "\n",
      "                                               image  current_price  \\\n",
      "0  https://assets.coingecko.com/coins/images/1/la...   16947.740000   \n",
      "0  https://assets.coingecko.com/coins/images/279/...    1276.380000   \n",
      "0  https://assets.coingecko.com/coins/images/325/...       0.999585   \n",
      "\n",
      "     market_cap  market_cap_rank  fully_diluted_valuation  total_volume  \\\n",
      "0  325492310014                1             355903872198   29555065525   \n",
      "0  153720615429                2             153720615429   11773374726   \n",
      "0   67390338111                3              67390338111   44786242402   \n",
      "\n",
      "    high_24h  ...  max_supply       ath  ath_change_percentage  \\\n",
      "0  17101.870  ...  21000000.0  69045.00              -75.41695   \n",
      "0   1293.910  ...        None   4878.26              -73.76358   \n",
      "0      1.005  ...        None      1.32              -24.38135   \n",
      "\n",
      "                   ath_date        atl  atl_change_percentage  \\\n",
      "0  2021-11-10T14:24:11.849Z  67.810000            24931.05489   \n",
      "0  2021-11-10T14:24:19.604Z   0.432979           295498.92459   \n",
      "0  2018-07-24T00:00:00.000Z   0.572521               74.75461   \n",
      "\n",
      "                   atl_date  \\\n",
      "0  2013-07-06T00:00:00.000Z   \n",
      "0  2015-10-20T00:00:00.000Z   \n",
      "0  2015-03-02T00:00:00.000Z   \n",
      "\n",
      "                                                 roi  \\\n",
      "0                                               None   \n",
      "0  {'times': 99.73668971686223, 'currency': 'btc'...   \n",
      "0                                               None   \n",
      "\n",
      "               last_updated  price_change_percentage_1h_in_currency  \n",
      "0  2022-11-12T15:35:49.300Z                                0.565123  \n",
      "0  2022-11-12T15:35:44.590Z                                0.748717  \n",
      "0  2022-11-12T15:35:26.550Z                               -0.007310  \n",
      "\n",
      "[3 rows x 27 columns]\n",
      "         id symbol      name  \\\n",
      "0   bitcoin    btc   Bitcoin   \n",
      "0  ethereum    eth  Ethereum   \n",
      "0    tether   usdt    Tether   \n",
      "\n",
      "                                               image  current_price  \\\n",
      "0  https://assets.coingecko.com/coins/images/1/la...   16944.250000   \n",
      "0  https://assets.coingecko.com/coins/images/279/...    1275.450000   \n",
      "0  https://assets.coingecko.com/coins/images/325/...       0.999585   \n",
      "\n",
      "     market_cap  market_cap_rank  fully_diluted_valuation  total_volume  \\\n",
      "0  325492310014                1             355903872198   29526204343   \n",
      "0  153720615429                2             153720615429   11732830876   \n",
      "0   67390338111                3              67390338111   44786242402   \n",
      "\n",
      "    high_24h  ...  max_supply       ath  ath_change_percentage  \\\n",
      "0  17101.870  ...  21000000.0  69045.00              -75.41695   \n",
      "0   1293.910  ...        None   4878.26              -73.76358   \n",
      "0      1.005  ...        None      1.32              -24.38135   \n",
      "\n",
      "                   ath_date        atl  atl_change_percentage  \\\n",
      "0  2021-11-10T14:24:11.849Z  67.810000            24931.05489   \n",
      "0  2021-11-10T14:24:19.604Z   0.432979           295498.92459   \n",
      "0  2018-07-24T00:00:00.000Z   0.572521               74.75461   \n",
      "\n",
      "                   atl_date  \\\n",
      "0  2013-07-06T00:00:00.000Z   \n",
      "0  2015-10-20T00:00:00.000Z   \n",
      "0  2015-03-02T00:00:00.000Z   \n",
      "\n",
      "                                                 roi  \\\n",
      "0                                               None   \n",
      "0  {'times': 99.67087061844356, 'currency': 'btc'...   \n",
      "0                                               None   \n",
      "\n",
      "               last_updated  price_change_percentage_1h_in_currency  \n",
      "0  2022-11-12T15:37:00.055Z                                0.460948  \n",
      "0  2022-11-12T15:37:14.487Z                                0.675500  \n",
      "0  2022-11-12T15:35:26.550Z                               -0.007310  \n",
      "\n",
      "[3 rows x 27 columns]\n"
     ]
    },
    {
     "ename": "KeyboardInterrupt",
     "evalue": "",
     "output_type": "error",
     "traceback": [
      "\u001b[0;31m---------------------------------------------------------------------------\u001b[0m",
      "\u001b[0;31mKeyboardInterrupt\u001b[0m                         Traceback (most recent call last)",
      "\u001b[0;32m/var/folders/4d/z57_76td03j5db8dyv4pwsvr0000gn/T/ipykernel_27484/2440081823.py\u001b[0m in \u001b[0;36m<module>\u001b[0;34m\u001b[0m\n\u001b[0;32m----> 1\u001b[0;31m \u001b[0mapi_timer\u001b[0m\u001b[0;34m(\u001b[0m\u001b[0;34m)\u001b[0m\u001b[0;34m\u001b[0m\u001b[0;34m\u001b[0m\u001b[0m\n\u001b[0m",
      "\u001b[0;32m/var/folders/4d/z57_76td03j5db8dyv4pwsvr0000gn/T/ipykernel_27484/591578477.py\u001b[0m in \u001b[0;36mapi_timer\u001b[0;34m()\u001b[0m\n\u001b[1;32m      4\u001b[0m \u001b[0;34m\u001b[0m\u001b[0m\n\u001b[1;32m      5\u001b[0m     \u001b[0;32mwhile\u001b[0m \u001b[0;32mTrue\u001b[0m\u001b[0;34m:\u001b[0m\u001b[0;34m\u001b[0m\u001b[0;34m\u001b[0m\u001b[0m\n\u001b[0;32m----> 6\u001b[0;31m         \u001b[0mschedule\u001b[0m\u001b[0;34m.\u001b[0m\u001b[0mrun_pending\u001b[0m\u001b[0;34m(\u001b[0m\u001b[0;34m)\u001b[0m\u001b[0;34m\u001b[0m\u001b[0;34m\u001b[0m\u001b[0m\n\u001b[0m\u001b[1;32m      7\u001b[0m         \u001b[0mtime\u001b[0m\u001b[0;34m.\u001b[0m\u001b[0msleep\u001b[0m\u001b[0;34m(\u001b[0m\u001b[0;36m0\u001b[0m\u001b[0;34m)\u001b[0m\u001b[0;34m\u001b[0m\u001b[0;34m\u001b[0m\u001b[0m\n",
      "\u001b[0;32m~/opt/anaconda3/envs/testing/lib/python3.7/site-packages/schedule/__init__.py\u001b[0m in \u001b[0;36mrun_pending\u001b[0;34m()\u001b[0m\n\u001b[1;32m    778\u001b[0m     \u001b[0;34m:\u001b[0m\u001b[0mdata\u001b[0m\u001b[0;34m:\u001b[0m\u001b[0;31m`\u001b[0m\u001b[0mdefault\u001b[0m \u001b[0mscheduler\u001b[0m \u001b[0minstance\u001b[0m \u001b[0;34m<\u001b[0m\u001b[0mdefault_scheduler\u001b[0m\u001b[0;34m>\u001b[0m\u001b[0;31m`\u001b[0m\u001b[0;34m.\u001b[0m\u001b[0;34m\u001b[0m\u001b[0;34m\u001b[0m\u001b[0m\n\u001b[1;32m    779\u001b[0m     \"\"\"\n\u001b[0;32m--> 780\u001b[0;31m     \u001b[0mdefault_scheduler\u001b[0m\u001b[0;34m.\u001b[0m\u001b[0mrun_pending\u001b[0m\u001b[0;34m(\u001b[0m\u001b[0;34m)\u001b[0m\u001b[0;34m\u001b[0m\u001b[0;34m\u001b[0m\u001b[0m\n\u001b[0m\u001b[1;32m    781\u001b[0m \u001b[0;34m\u001b[0m\u001b[0m\n\u001b[1;32m    782\u001b[0m \u001b[0;34m\u001b[0m\u001b[0m\n",
      "\u001b[0;32m~/opt/anaconda3/envs/testing/lib/python3.7/site-packages/schedule/__init__.py\u001b[0m in \u001b[0;36mrun_pending\u001b[0;34m(self)\u001b[0m\n\u001b[1;32m     97\u001b[0m         \"\"\"\n\u001b[1;32m     98\u001b[0m         \u001b[0mrunnable_jobs\u001b[0m \u001b[0;34m=\u001b[0m \u001b[0;34m(\u001b[0m\u001b[0mjob\u001b[0m \u001b[0;32mfor\u001b[0m \u001b[0mjob\u001b[0m \u001b[0;32min\u001b[0m \u001b[0mself\u001b[0m\u001b[0;34m.\u001b[0m\u001b[0mjobs\u001b[0m \u001b[0;32mif\u001b[0m \u001b[0mjob\u001b[0m\u001b[0;34m.\u001b[0m\u001b[0mshould_run\u001b[0m\u001b[0;34m)\u001b[0m\u001b[0;34m\u001b[0m\u001b[0;34m\u001b[0m\u001b[0m\n\u001b[0;32m---> 99\u001b[0;31m         \u001b[0;32mfor\u001b[0m \u001b[0mjob\u001b[0m \u001b[0;32min\u001b[0m \u001b[0msorted\u001b[0m\u001b[0;34m(\u001b[0m\u001b[0mrunnable_jobs\u001b[0m\u001b[0;34m)\u001b[0m\u001b[0;34m:\u001b[0m\u001b[0;34m\u001b[0m\u001b[0;34m\u001b[0m\u001b[0m\n\u001b[0m\u001b[1;32m    100\u001b[0m             \u001b[0mself\u001b[0m\u001b[0;34m.\u001b[0m\u001b[0m_run_job\u001b[0m\u001b[0;34m(\u001b[0m\u001b[0mjob\u001b[0m\u001b[0;34m)\u001b[0m\u001b[0;34m\u001b[0m\u001b[0;34m\u001b[0m\u001b[0m\n\u001b[1;32m    101\u001b[0m \u001b[0;34m\u001b[0m\u001b[0m\n",
      "\u001b[0;32m~/opt/anaconda3/envs/testing/lib/python3.7/site-packages/schedule/__init__.py\u001b[0m in \u001b[0;36m<genexpr>\u001b[0;34m(.0)\u001b[0m\n\u001b[1;32m     96\u001b[0m         \u001b[0mbetween\u001b[0m \u001b[0mbut\u001b[0m \u001b[0monly\u001b[0m \u001b[0monce\u001b[0m\u001b[0;34m.\u001b[0m\u001b[0;34m\u001b[0m\u001b[0;34m\u001b[0m\u001b[0m\n\u001b[1;32m     97\u001b[0m         \"\"\"\n\u001b[0;32m---> 98\u001b[0;31m         \u001b[0mrunnable_jobs\u001b[0m \u001b[0;34m=\u001b[0m \u001b[0;34m(\u001b[0m\u001b[0mjob\u001b[0m \u001b[0;32mfor\u001b[0m \u001b[0mjob\u001b[0m \u001b[0;32min\u001b[0m \u001b[0mself\u001b[0m\u001b[0;34m.\u001b[0m\u001b[0mjobs\u001b[0m \u001b[0;32mif\u001b[0m \u001b[0mjob\u001b[0m\u001b[0;34m.\u001b[0m\u001b[0mshould_run\u001b[0m\u001b[0;34m)\u001b[0m\u001b[0;34m\u001b[0m\u001b[0;34m\u001b[0m\u001b[0m\n\u001b[0m\u001b[1;32m     99\u001b[0m         \u001b[0;32mfor\u001b[0m \u001b[0mjob\u001b[0m \u001b[0;32min\u001b[0m \u001b[0msorted\u001b[0m\u001b[0;34m(\u001b[0m\u001b[0mrunnable_jobs\u001b[0m\u001b[0;34m)\u001b[0m\u001b[0;34m:\u001b[0m\u001b[0;34m\u001b[0m\u001b[0;34m\u001b[0m\u001b[0m\n\u001b[1;32m    100\u001b[0m             \u001b[0mself\u001b[0m\u001b[0;34m.\u001b[0m\u001b[0m_run_job\u001b[0m\u001b[0;34m(\u001b[0m\u001b[0mjob\u001b[0m\u001b[0;34m)\u001b[0m\u001b[0;34m\u001b[0m\u001b[0;34m\u001b[0m\u001b[0m\n",
      "\u001b[0;32m~/opt/anaconda3/envs/testing/lib/python3.7/site-packages/schedule/__init__.py\u001b[0m in \u001b[0;36mshould_run\u001b[0;34m(self)\u001b[0m\n\u001b[1;32m    640\u001b[0m         \"\"\"\n\u001b[1;32m    641\u001b[0m         \u001b[0;32massert\u001b[0m \u001b[0mself\u001b[0m\u001b[0;34m.\u001b[0m\u001b[0mnext_run\u001b[0m \u001b[0;32mis\u001b[0m \u001b[0;32mnot\u001b[0m \u001b[0;32mNone\u001b[0m\u001b[0;34m,\u001b[0m \u001b[0;34m\"must run _schedule_next_run before\"\u001b[0m\u001b[0;34m\u001b[0m\u001b[0;34m\u001b[0m\u001b[0m\n\u001b[0;32m--> 642\u001b[0;31m         \u001b[0;32mreturn\u001b[0m \u001b[0mdatetime\u001b[0m\u001b[0;34m.\u001b[0m\u001b[0mdatetime\u001b[0m\u001b[0;34m.\u001b[0m\u001b[0mnow\u001b[0m\u001b[0;34m(\u001b[0m\u001b[0;34m)\u001b[0m \u001b[0;34m>=\u001b[0m \u001b[0mself\u001b[0m\u001b[0;34m.\u001b[0m\u001b[0mnext_run\u001b[0m\u001b[0;34m\u001b[0m\u001b[0;34m\u001b[0m\u001b[0m\n\u001b[0m\u001b[1;32m    643\u001b[0m \u001b[0;34m\u001b[0m\u001b[0m\n\u001b[1;32m    644\u001b[0m     \u001b[0;32mdef\u001b[0m \u001b[0mrun\u001b[0m\u001b[0;34m(\u001b[0m\u001b[0mself\u001b[0m\u001b[0;34m)\u001b[0m\u001b[0;34m:\u001b[0m\u001b[0;34m\u001b[0m\u001b[0;34m\u001b[0m\u001b[0m\n",
      "\u001b[0;31mKeyboardInterrupt\u001b[0m: "
     ]
    }
   ],
   "source": [
    "api_timer()"
   ]
  },
  {
   "cell_type": "code",
   "execution_count": null,
   "id": "eb09cc52-66c5-41a0-a045-204707bae73f",
   "metadata": {},
   "outputs": [],
   "source": []
  }
 ],
 "metadata": {
  "kernelspec": {
   "display_name": "testing",
   "language": "python",
   "name": "testing"
  },
  "language_info": {
   "codemirror_mode": {
    "name": "ipython",
    "version": 3
   },
   "file_extension": ".py",
   "mimetype": "text/x-python",
   "name": "python",
   "nbconvert_exporter": "python",
   "pygments_lexer": "ipython3",
   "version": "3.7.13"
  }
 },
 "nbformat": 4,
 "nbformat_minor": 5
}
